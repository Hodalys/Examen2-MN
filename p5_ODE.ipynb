{
 "cells": [
  {
   "cell_type": "code",
   "execution_count": 1,
   "metadata": {},
   "outputs": [],
   "source": [
    "%load_ext autoreload"
   ]
  },
  {
   "cell_type": "markdown",
   "metadata": {},
   "source": [
    "# ODE"
   ]
  },
  {
   "cell_type": "markdown",
   "metadata": {},
   "source": [
    "## Ejercicio 1\n",
    "$y'= -5y+5t^2+2t$\n",
    "* $0 \\le t \\le 1$\n",
    "* $y(t_0)=1/3$\n",
    "* $N=10$\n",
    "\n"
   ]
  },
  {
   "cell_type": "code",
   "execution_count": 2,
   "metadata": {},
   "outputs": [
    {
     "name": "stdout",
     "output_type": "stream",
     "text": [
      "[02-06 12:49:10][INFO] 2025-02-06 12:49:10.071652\n",
      "[02-06 12:49:10][INFO] Hodalys| 2025-02-06 12:49:10.375674\n",
      "[02-06 12:49:10][INFO] 2025-02-06 12:49:10.375674\n",
      "[02-06 12:49:10][INFO] Hodalys| 2025-02-06 12:49:10.382326\n"
     ]
    }
   ],
   "source": [
    "%autoreload 2\n",
    "from src import ODE_euler\n"
   ]
  },
  {
   "cell_type": "markdown",
   "metadata": {},
   "source": [
    "## Comparación con la solución real\n",
    "La solución real de la ecuación diferencial es:\n",
    "$y(t)=t^2 +1/3e^{-5t}$\n",
    "\n",
    "* Grafique la solución real y la aproximación obtenida con el método de Euler en una misma gráfica.\n",
    "\n"
   ]
  },
  {
   "cell_type": "code",
   "execution_count": 46,
   "metadata": {},
   "outputs": [
    {
     "name": "stdout",
     "output_type": "stream",
     "text": [
      "Valores obtenidos por el método de Euler:\n",
      "t: 0.00, y: 0.3330\n",
      "t: 0.10, y: 0.1665\n",
      "t: 0.20, y: 0.1083\n",
      "t: 0.30, y: 0.1141\n",
      "t: 0.40, y: 0.1621\n",
      "t: 0.50, y: 0.2410\n",
      "t: 0.60, y: 0.3455\n",
      "t: 0.70, y: 0.4728\n",
      "t: 0.80, y: 0.6214\n",
      "t: 0.90, y: 0.7907\n",
      "t: 1.00, y: 0.9803\n",
      "Valores reales:\n",
      "t: 0.00, y: 0.3330\n",
      "t: 0.10, y: 0.3663\n",
      "t: 0.20, y: 0.4223\n",
      "t: 0.30, y: 0.5169\n",
      "t: 0.40, y: 0.6753\n",
      "t: 0.50, y: 0.9376\n",
      "t: 0.60, y: 1.3687\n",
      "t: 0.70, y: 2.0742\n",
      "t: 0.80, y: 3.2270\n",
      "t: 0.90, y: 5.1110\n",
      "t: 1.00, y: 8.1926\n",
      "\n",
      "Valor de h:  0.1\n"
     ]
    }
   ],
   "source": [
    "import numpy as np\n",
    "\n",
    "f = lambda t, y: -5 * y + 5 * (t)**2 + 2 * t \n",
    "a = 0\n",
    "b = 1\n",
    "y_t0 = 0.333\n",
    "N = 10\n",
    "\n",
    "# Método de Euler\n",
    "ys, ts, h = ODE_euler(a=a, b=b, f=f, y_t0=y_t0, N=N)\n",
    "\n",
    "#def real_solution(t):\n",
    "    #return (t)**2 + 1 / (3 * np.exp(-5 * t))\n",
    "\n",
    "#t_real = np.linspace(a, b, 10) # More points for a smooth curve\n",
    "#y_real = real_solution(t_real)\n",
    "y_real, t_real, h_real = ODE_euler(a=a, b=b, f=lambda t, y : (t)**2 + 1 / (3 * np.exp(-5 * t)), y_t0=y_t0, N=N)\n",
    "\n",
    "print(\"Valores obtenidos por el método de Euler:\")\n",
    "for t, y in zip(ts, ys):\n",
    "    print(f\"t: {t:.2f}, y: {y:.4f}\")\n",
    "\n",
    "print(\"Valores reales:\")\n",
    "for t, y in zip(t_real, y_real):\n",
    "    print(f\"t: {t:.2f}, y: {y:.4f}\")\n",
    "\n",
    "print(\"\\nValor de h: \", h)"
   ]
  },
  {
   "cell_type": "code",
   "execution_count": 40,
   "metadata": {},
   "outputs": [
    {
     "data": {
      "image/png": "[encoded data removed]",
      "text/plain": [
       "<Figure size 600x400 with 1 Axes>"
      ]
     },
     "metadata": {},
     "output_type": "display_data"
    }
   ],
   "source": [
    "import matplotlib.pyplot as plt\n",
    "# Graficar\n",
    "plt.figure(figsize=(6, 4))\n",
    "plt.plot(t_real, y_real, label='Analytical Solution', color='blue')\n",
    "plt.plot(ts, ys, label=\"Euler's Method\", marker='o', linestyle='--', color='red')\n",
    "plt.title('Solución Real de Ejercicio1')\n",
    "plt.xlabel('Tiempo')\n",
    "plt.ylabel('y')\n",
    "plt.legend()\n",
    "plt.grid()\n",
    "plt.show()"
   ]
  },
  {
   "cell_type": "markdown",
   "metadata": {},
   "source": [
    "# Errores\n",
    "Calcule el error relativo para diferentes valores de N."
   ]
  },
  {
   "cell_type": "code",
   "execution_count": 47,
   "metadata": {},
   "outputs": [
    {
     "name": "stdout",
     "output_type": "stream",
     "text": [
      "\n",
      "Error Relativo para cada punto:\n",
      "t = 0.00: Error relativo = 0.0010\n",
      "t = 0.10: Error relativo = 0.7025\n",
      "t = 0.20: Error relativo = 0.8856\n",
      "t = 0.30: Error relativo = 0.9279\n",
      "t = 0.40: Error relativo = 0.9382\n",
      "t = 0.50: Error relativo = 0.9441\n",
      "t = 0.60: Error relativo = 0.9510\n",
      "t = 0.70: Error relativo = 0.9590\n",
      "t = 0.80: Error relativo = 0.9670\n",
      "t = 0.90: Error relativo = 0.9743\n",
      "t = 1.00: Error relativo = 0.9806\n",
      "Promedio de error relativo =  0.089143\n"
     ]
    }
   ],
   "source": [
    "y_real_euler = []\n",
    "for t in ts:\n",
    "    y_real_euler.append(real_solution(t))\n",
    "\n",
    "error_relativo = np.abs((np.array(ys) - np.array(y_real_euler)) / np.array(y_real_euler))\n",
    "\n",
    "print(\"\\nError Relativo para cada punto:\")\n",
    "for t, y_aprox, y_real_val, error in zip(ts, ys, y_real_euler, error_relativo):\n",
    "    print(f\"t = {t:.2f}: Error relativo = {error:.4f}\")\n",
    "    \n",
    "promedio = error / 11\n",
    "print(f\"Promedio de error relativo = {promedio: 4f}\")"
   ]
  }
 ],
 "metadata": {
  "kernelspec": {
   "display_name": "base",
   "language": "python",
   "name": "python3"
  },
  "language_info": {
   "codemirror_mode": {
    "name": "ipython",
    "version": 3
   },
   "file_extension": ".py",
   "mimetype": "text/x-python",
   "name": "python",
   "nbconvert_exporter": "python",
   "pygments_lexer": "ipython3",
   "version": "3.12.4"
  }
 },
 "nbformat": 4,
 "nbformat_minor": 2
}
