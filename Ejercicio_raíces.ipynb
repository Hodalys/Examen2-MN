{
 "cells": [
  {
   "cell_type": "markdown",
   "metadata": {},
   "source": [
    "# Raíces de un polinomio\n",
    "$x^5 - 6*x^4 + 2∗x^3 + 20∗x^2 − 27∗x + 10 = 0$"
   ]
  },
  {
   "cell_type": "code",
   "execution_count": 17,
   "metadata": {},
   "outputs": [
    {
     "name": "stdout",
     "output_type": "stream",
     "text": [
      "Raices de la función: \n",
      "\n",
      "[-2.0, 0.99998097774394, 0.9999841319338354, 1.0, 1.0000175924178667, 1.0000135220113986]\n",
      "\n",
      "Redondeado a 8 cifras significativas:\n"
     ]
    },
    {
     "data": {
      "text/plain": [
       "array([-2.        ,  0.99998098,  0.99998413,  1.        ,  1.00001759,\n",
       "        1.00001352])"
      ]
     },
     "execution_count": 17,
     "metadata": {},
     "output_type": "execute_result"
    }
   ],
   "source": [
    "import numpy as np\n",
    "import matplotlib.pyplot as plt\n",
    "from scipy import optimize\n",
    "\n",
    "f = lambda x: x**5 - 6* x**4 + 2* x**3 + 20* x**2 - 27*x + 10\n",
    "fder = lambda x: 5*x**4 - 24*x**3 + 6*x**2 + 40*x -27\n",
    "\n",
    "# variables iniciales\n",
    "initial_guesses = [-2, -1, 0, 1, 2, 3] \n",
    "\n",
    "roots = []\n",
    "for guess in initial_guesses:\n",
    "  try:\n",
    "    root = optimize.newton(f, guess, fprime=fder, maxiter=200, tol=1e-5)\n",
    "    roots.append(root)\n",
    "  except RuntimeError as e:\n",
    "    print(f\"El método de Newton-Raphson falló {guess}: {e}\")\n",
    "\n",
    "print(\"Raices de la función: \")\n",
    "print()\n",
    "print(roots)\n",
    "\n",
    "print(\"\\nRedondeado a 8 cifras significativas:\")\n",
    "roots_round = np.round(roots, 8)\n",
    "roots_round"
   ]
  }
 ],
 "metadata": {
  "kernelspec": {
   "display_name": "base",
   "language": "python",
   "name": "python3"
  },
  "language_info": {
   "codemirror_mode": {
    "name": "ipython",
    "version": 3
   },
   "file_extension": ".py",
   "mimetype": "text/x-python",
   "name": "python",
   "nbconvert_exporter": "python",
   "pygments_lexer": "ipython3",
   "version": "3.12.4"
  }
 },
 "nbformat": 4,
 "nbformat_minor": 2
}
